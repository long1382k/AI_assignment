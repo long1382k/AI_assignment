{
 "cells": [
  {
   "attachments": {},
   "cell_type": "markdown",
   "metadata": {
    "colab_type": "text",
    "id": "A1mEx_z52Giv"
   },
   "source": [
    "**Nội dung bài thực hành**\n",
    "\n",
    "Người học tiếp cận và giải quyết bài toán phân lớp văn bản sử dụng phương pháp Naive Bayser. Sau khi thực hành, người học có khả năng:\n",
    "1. Sử dụng được các công cụ của sklearn cho bài toán phân lớp\n",
    "  \n",
    "\n",
    "*   Thao tác với dữ liệu\n",
    "*   Chuyển từ văn bản sang không gian vector\n",
    "\n",
    "\n",
    "2. Áp dụng được NB cho bài toán phân lớp\n",
    "\n",
    "\n",
    "*   Huấn luyện mô hình\n",
    "*   Đánh gía mô hình\n",
    "\n",
    "\n",
    "3. Cải tiến được mô hình phân lớp\n",
    "3. Thực hành được với bài toán thực tế"
   ]
  },
  {
   "attachments": {},
   "cell_type": "markdown",
   "metadata": {
    "colab_type": "text",
    "id": "ETXOaYxP3kMH"
   },
   "source": [
    "**Thao tác với dữ liệu**\n",
    "\n",
    "\n",
    "\n",
    "*   Bài thực hành sử dụng dữ liệu tiếng Anh\n",
    "*   Dữ liệu gồm 18.000 bài báo được tổ chức trong 20 lớp (classes/groups)\n",
    "*   Yêu cầu: xây dựng mô hình phân lớp các bài báo dựa trên mô hình học máy Naive Bayes\n",
    "\n"
   ]
  },
  {
   "attachments": {},
   "cell_type": "markdown",
   "metadata": {
    "colab_type": "text",
    "id": "1KwoevWs4GBH"
   },
   "source": [
    "**Đọc dữ liệu**"
   ]
  },
  {
   "cell_type": "code",
   "execution_count": 34,
   "metadata": {
    "colab": {
     "base_uri": "https://localhost:8080/",
     "height": 51
    },
    "colab_type": "code",
    "executionInfo": {
     "elapsed": 23340,
     "status": "ok",
     "timestamp": 1536249787556,
     "user": {
      "displayName": "Nguyen Minh-Tien",
      "photoUrl": "//lh3.googleusercontent.com/-yhO90KW_tl8/AAAAAAAAAAI/AAAAAAAABZU/ePgDYmZiwCk/s50-c-k-no/photo.jpg",
      "userId": "117108009012583044307"
     },
     "user_tz": -420
    },
    "id": "aQwYcPExCseE",
    "outputId": "e49343f0-889d-4c75-8a4c-fe3c733fc85d"
   },
   "outputs": [],
   "source": [
    "import warnings\n",
    "warnings.filterwarnings('ignore')\n",
    "#Loading the data set - training data.\n",
    "from sklearn.datasets import fetch_20newsgroups\n",
    "twenty_train = fetch_20newsgroups(subset='train', shuffle=True)"
   ]
  },
  {
   "attachments": {},
   "cell_type": "markdown",
   "metadata": {
    "colab_type": "text",
    "id": "tf7UZnmO4Zad"
   },
   "source": [
    "**Quan sát dữ liệu huấn luyện**\n",
    "\n",
    "\n",
    "\n",
    "*   Số lượng dữ liệu huấn luyện\n",
    "*   5 văn bản đầu tiên\n",
    "\n"
   ]
  },
  {
   "cell_type": "code",
   "execution_count": 35,
   "metadata": {
    "colab": {
     "base_uri": "https://localhost:8080/",
     "height": 144
    },
    "colab_type": "code",
    "executionInfo": {
     "elapsed": 817,
     "status": "ok",
     "timestamp": 1536204021820,
     "user": {
      "displayName": "Nguyen Minh-Tien",
      "photoUrl": "//lh3.googleusercontent.com/-yhO90KW_tl8/AAAAAAAAAAI/AAAAAAAABZU/ePgDYmZiwCk/s50-c-k-no/photo.jpg",
      "userId": "117108009012583044307"
     },
     "user_tz": -420
    },
    "id": "Fn3lZVXL4dVY",
    "outputId": "ab0ea61d-4e5f-4e0b-c2cf-16845bdaf912"
   },
   "outputs": [
    {
     "name": "stdout",
     "output_type": "stream",
     "text": [
      "The number of training examples 11314\n"
     ]
    },
    {
     "data": {
      "text/plain": [
       "[\"From: lerxst@wam.umd.edu (where's my thing)\\nSubject: WHAT car is this!?\\nNntp-Posting-Host: rac3.wam.umd.edu\\nOrganization: University of Maryland, College Park\\nLines: 15\\n\\n I was wondering if anyone out there could enlighten me on this car I saw\\nthe other day. It was a 2-door sports car, looked to be from the late 60s/\\nearly 70s. It was called a Bricklin. The doors were really small. In addition,\\nthe front bumper was separate from the rest of the body. This is \\nall I know. If anyone can tellme a model name, engine specs, years\\nof production, where this car is made, history, or whatever info you\\nhave on this funky looking car, please e-mail.\\n\\nThanks,\\n- IL\\n   ---- brought to you by your neighborhood Lerxst ----\\n\\n\\n\\n\\n\",\n",
       " \"From: guykuo@carson.u.washington.edu (Guy Kuo)\\nSubject: SI Clock Poll - Final Call\\nSummary: Final call for SI clock reports\\nKeywords: SI,acceleration,clock,upgrade\\nArticle-I.D.: shelley.1qvfo9INNc3s\\nOrganization: University of Washington\\nLines: 11\\nNNTP-Posting-Host: carson.u.washington.edu\\n\\nA fair number of brave souls who upgraded their SI clock oscillator have\\nshared their experiences for this poll. Please send a brief message detailing\\nyour experiences with the procedure. Top speed attained, CPU rated speed,\\nadd on cards and adapters, heat sinks, hour of usage per day, floppy disk\\nfunctionality with 800 and 1.4 m floppies are especially requested.\\n\\nI will be summarizing in the next two days, so please add to the network\\nknowledge base if you have done the clock upgrade and haven't answered this\\npoll. Thanks.\\n\\nGuy Kuo <guykuo@u.washington.edu>\\n\",\n",
       " 'From: twillis@ec.ecn.purdue.edu (Thomas E Willis)\\nSubject: PB questions...\\nOrganization: Purdue University Engineering Computer Network\\nDistribution: usa\\nLines: 36\\n\\nwell folks, my mac plus finally gave up the ghost this weekend after\\nstarting life as a 512k way back in 1985.  sooo, i\\'m in the market for a\\nnew machine a bit sooner than i intended to be...\\n\\ni\\'m looking into picking up a powerbook 160 or maybe 180 and have a bunch\\nof questions that (hopefully) somebody can answer:\\n\\n* does anybody know any dirt on when the next round of powerbook\\nintroductions are expected?  i\\'d heard the 185c was supposed to make an\\nappearence \"this summer\" but haven\\'t heard anymore on it - and since i\\ndon\\'t have access to macleak, i was wondering if anybody out there had\\nmore info...\\n\\n* has anybody heard rumors about price drops to the powerbook line like the\\nones the duo\\'s just went through recently?\\n\\n* what\\'s the impression of the display on the 180?  i could probably swing\\na 180 if i got the 80Mb disk rather than the 120, but i don\\'t really have\\na feel for how much \"better\" the display is (yea, it looks great in the\\nstore, but is that all \"wow\" or is it really that good?).  could i solicit\\nsome opinions of people who use the 160 and 180 day-to-day on if its worth\\ntaking the disk size and money hit to get the active display?  (i realize\\nthis is a real subjective question, but i\\'ve only played around with the\\nmachines in a computer store breifly and figured the opinions of somebody\\nwho actually uses the machine daily might prove helpful).\\n\\n* how well does hellcats perform?  ;)\\n\\nthanks a bunch in advance for any info - if you could email, i\\'ll post a\\nsummary (news reading time is at a premium with finals just around the\\ncorner... :( )\\n--\\nTom Willis  \\\\  twillis@ecn.purdue.edu    \\\\    Purdue Electrical Engineering\\n---------------------------------------------------------------------------\\n\"Convictions are more dangerous enemies of truth than lies.\"  - F. W.\\nNietzsche\\n',\n",
       " 'From: jgreen@amber (Joe Green)\\nSubject: Re: Weitek P9000 ?\\nOrganization: Harris Computer Systems Division\\nLines: 14\\nDistribution: world\\nNNTP-Posting-Host: amber.ssd.csd.harris.com\\nX-Newsreader: TIN [version 1.1 PL9]\\n\\nRobert J.C. Kyanko (rob@rjck.UUCP) wrote:\\n> abraxis@iastate.edu writes in article <abraxis.734340159@class1.iastate.edu>:\\n> > Anyone know about the Weitek P9000 graphics chip?\\n> As far as the low-level stuff goes, it looks pretty nice.  It\\'s got this\\n> quadrilateral fill command that requires just the four points.\\n\\nDo you have Weitek\\'s address/phone number?  I\\'d like to get some information\\nabout this chip.\\n\\n--\\nJoe Green\\t\\t\\t\\tHarris Corporation\\njgreen@csd.harris.com\\t\\t\\tComputer Systems Division\\n\"The only thing that really scares me is a person with no sense of humor.\"\\n\\t\\t\\t\\t\\t\\t-- Jonathan Winters\\n',\n",
       " 'From: jcm@head-cfa.harvard.edu (Jonathan McDowell)\\nSubject: Re: Shuttle Launch Question\\nOrganization: Smithsonian Astrophysical Observatory, Cambridge, MA,  USA\\nDistribution: sci\\nLines: 23\\n\\nFrom article <C5owCB.n3p@world.std.com>, by tombaker@world.std.com (Tom A Baker):\\n>>In article <C5JLwx.4H9.1@cs.cmu.edu>, ETRAT@ttacs1.ttu.edu (Pack Rat) writes...\\n>>>\"Clear caution & warning memory.  Verify no unexpected\\n>>>errors. ...\".  I am wondering what an \"expected error\" might\\n>>>be.  Sorry if this is a really dumb question, but\\n> \\n> Parity errors in memory or previously known conditions that were waivered.\\n>    \"Yes that is an error, but we already knew about it\"\\n> I\\'d be curious as to what the real meaning of the quote is.\\n> \\n> tom\\n\\n\\nMy understanding is that the \\'expected errors\\' are basically\\nknown bugs in the warning system software - things are checked\\nthat don\\'t have the right values in yet because they aren\\'t\\nset till after launch, and suchlike. Rather than fix the code\\nand possibly introduce new bugs, they just tell the crew\\n\\'ok, if you see a warning no. 213 before liftoff, ignore it\\'.\\n\\n - Jonathan\\n\\n\\n']"
      ]
     },
     "execution_count": 35,
     "metadata": {},
     "output_type": "execute_result"
    }
   ],
   "source": [
    "print(\"The number of training examples\", len(twenty_train.data))\n",
    "\n",
    "# printing top five training examples\n",
    "twenty_train.data[0:5]"
   ]
  },
  {
   "attachments": {},
   "cell_type": "markdown",
   "metadata": {
    "colab_type": "text",
    "id": "082psamT5sAB"
   },
   "source": [
    "\n",
    "\n",
    "*   Danh sách tên các lớp\n",
    "\n"
   ]
  },
  {
   "cell_type": "code",
   "execution_count": 36,
   "metadata": {
    "colab": {
     "base_uri": "https://localhost:8080/",
     "height": 357
    },
    "colab_type": "code",
    "executionInfo": {
     "elapsed": 800,
     "status": "ok",
     "timestamp": 1536204169428,
     "user": {
      "displayName": "Nguyen Minh-Tien",
      "photoUrl": "//lh3.googleusercontent.com/-yhO90KW_tl8/AAAAAAAAAAI/AAAAAAAABZU/ePgDYmZiwCk/s50-c-k-no/photo.jpg",
      "userId": "117108009012583044307"
     },
     "user_tz": -420
    },
    "id": "Xn35A-rIC9VB",
    "outputId": "d811ceaa-45f2-4062-e08b-5d0a1551331f"
   },
   "outputs": [
    {
     "data": {
      "text/plain": [
       "['alt.atheism',\n",
       " 'comp.graphics',\n",
       " 'comp.os.ms-windows.misc',\n",
       " 'comp.sys.ibm.pc.hardware',\n",
       " 'comp.sys.mac.hardware',\n",
       " 'comp.windows.x',\n",
       " 'misc.forsale',\n",
       " 'rec.autos',\n",
       " 'rec.motorcycles',\n",
       " 'rec.sport.baseball',\n",
       " 'rec.sport.hockey',\n",
       " 'sci.crypt',\n",
       " 'sci.electronics',\n",
       " 'sci.med',\n",
       " 'sci.space',\n",
       " 'soc.religion.christian',\n",
       " 'talk.politics.guns',\n",
       " 'talk.politics.mideast',\n",
       " 'talk.politics.misc',\n",
       " 'talk.religion.misc']"
      ]
     },
     "execution_count": 36,
     "metadata": {},
     "output_type": "execute_result"
    }
   ],
   "source": [
    "# You can check the target names (categories) and some data files by following commands.\n",
    "twenty_train.target_names #prints all the categories"
   ]
  },
  {
   "attachments": {},
   "cell_type": "markdown",
   "metadata": {
    "colab_type": "text",
    "id": "9JA3KhUT6TJK"
   },
   "source": [
    "\n",
    "\n",
    "*   Nhãn của các lớp\n",
    "\n"
   ]
  },
  {
   "cell_type": "code",
   "execution_count": 37,
   "metadata": {
    "colab": {
     "base_uri": "https://localhost:8080/",
     "height": 51
    },
    "colab_type": "code",
    "executionInfo": {
     "elapsed": 849,
     "status": "ok",
     "timestamp": 1536204434752,
     "user": {
      "displayName": "Nguyen Minh-Tien",
      "photoUrl": "//lh3.googleusercontent.com/-yhO90KW_tl8/AAAAAAAAAAI/AAAAAAAABZU/ePgDYmZiwCk/s50-c-k-no/photo.jpg",
      "userId": "117108009012583044307"
     },
     "user_tz": -420
    },
    "id": "1gBJdUSP6KQl",
    "outputId": "263f29cb-3f5e-4d9e-c366-604f83eb47ff"
   },
   "outputs": [
    {
     "name": "stdout",
     "output_type": "stream",
     "text": [
      "[7 4 4 ... 3 1 8]\n",
      "11314\n"
     ]
    }
   ],
   "source": [
    "targets = twenty_train.target\n",
    "print(targets)\n",
    "\n",
    "print(len(targets))"
   ]
  },
  {
   "attachments": {},
   "cell_type": "markdown",
   "metadata": {
    "colab_type": "text",
    "id": "kOVjsTU-65GU"
   },
   "source": [
    "\n",
    "\n",
    "*  Hiển thị dòng đầu tiên của văn bản đầu tiên\n",
    "\n"
   ]
  },
  {
   "cell_type": "code",
   "execution_count": 38,
   "metadata": {
    "colab": {
     "base_uri": "https://localhost:8080/",
     "height": 68
    },
    "colab_type": "code",
    "executionInfo": {
     "elapsed": 884,
     "status": "ok",
     "timestamp": 1534344310224,
     "user": {
      "displayName": "Nguyen Minh-Tien",
      "photoUrl": "//lh3.googleusercontent.com/-yhO90KW_tl8/AAAAAAAAAAI/AAAAAAAAAYU/IOarAPM6V8c/s50-c-k-no/photo.jpg",
      "userId": "117108009012583044307"
     },
     "user_tz": -420
    },
    "id": "NVjOl_m3C_jV",
    "outputId": "2b5ef771-b75a-49be-a224-48895e60cf6d"
   },
   "outputs": [
    {
     "name": "stdout",
     "output_type": "stream",
     "text": [
      "From: lerxst@wam.umd.edu (where's my thing)\n",
      "Subject: WHAT car is this!?\n",
      "Nntp-Posting-Host: rac3.wam.umd.edu\n"
     ]
    }
   ],
   "source": [
    "print(\"\\n\".join(twenty_train.data[0].split(\"\\n\")[:3])) #prints first line of the first data file"
   ]
  },
  {
   "attachments": {},
   "cell_type": "markdown",
   "metadata": {
    "colab_type": "text",
    "id": "8p0K_shM7D_i"
   },
   "source": [
    "**Chuẩn bị dữ liệu huấn luyện**\n",
    "\n",
    "Phần chuẩn bị dữ liệu cho huấn luyện mô hình là việc chuyển các văn bản vào không gian đặc trưng (vector space model)\n",
    "\n",
    "*   Đặc trưng: sử dụng term frequency (TF) hoặc TF-IDF\n",
    "*   Đếm số lần xuất hiện của các từ\n",
    "*   Dựa trên bag-of-words model\n",
    "\n"
   ]
  },
  {
   "attachments": {},
   "cell_type": "markdown",
   "metadata": {
    "colab_type": "text",
    "id": "odWmZfuk74b4"
   },
   "source": [
    "\n",
    "\n",
    "*   Tạo ma trận term-document, trong đó giá trị ở mỗi ô là số lần xuất hiện của từ trong văn bản chứa nó\n",
    "\n"
   ]
  },
  {
   "cell_type": "code",
   "execution_count": 39,
   "metadata": {
    "colab": {},
    "colab_type": "code",
    "id": "q0hejjBkDFLS"
   },
   "outputs": [],
   "source": [
    "# Extracting features from text files\n",
    "from sklearn.feature_extraction.text import CountVectorizer\n",
    "count_vect = CountVectorizer()\n",
    "X_train_counts = count_vect.fit_transform(twenty_train.data)"
   ]
  },
  {
   "cell_type": "code",
   "execution_count": 40,
   "metadata": {
    "colab": {
     "base_uri": "https://localhost:8080/",
     "height": 901
    },
    "colab_type": "code",
    "executionInfo": {
     "elapsed": 924,
     "status": "ok",
     "timestamp": 1536205532599,
     "user": {
      "displayName": "Nguyen Minh-Tien",
      "photoUrl": "//lh3.googleusercontent.com/-yhO90KW_tl8/AAAAAAAAAAI/AAAAAAAABZU/ePgDYmZiwCk/s50-c-k-no/photo.jpg",
      "userId": "117108009012583044307"
     },
     "user_tz": -420
    },
    "id": "UQmfI86x-SDc",
    "outputId": "a14dc316-7d67-4a18-b649-e7c13fb9dfdf"
   },
   "outputs": [
    {
     "name": "stdout",
     "output_type": "stream",
     "text": [
      "(11314, 130107)\n",
      "  (0, 56979)\t3\n",
      "  (0, 75358)\t2\n",
      "  (0, 123162)\t2\n",
      "  (0, 118280)\t2\n",
      "  (0, 50527)\t2\n",
      "  (0, 124031)\t2\n",
      "  (0, 85354)\t1\n",
      "  (0, 114688)\t1\n",
      "  (0, 111322)\t1\n",
      "  (0, 123984)\t1\n",
      "  (0, 37780)\t5\n",
      "  (0, 68532)\t3\n",
      "  (0, 114731)\t5\n",
      "  (0, 87620)\t1\n",
      "  (0, 95162)\t1\n",
      "  (0, 64095)\t1\n",
      "  (0, 98949)\t1\n",
      "  (0, 90379)\t1\n",
      "  (0, 118983)\t1\n",
      "  (0, 89362)\t3\n",
      "  (0, 79666)\t1\n",
      "  (0, 40998)\t1\n",
      "  (0, 92081)\t1\n",
      "  (0, 76032)\t1\n",
      "  (0, 4605)\t1\n",
      "  :\t:\n",
      "  (0, 37565)\t1\n",
      "  (0, 113986)\t1\n",
      "  (0, 83256)\t1\n",
      "  (0, 86001)\t1\n",
      "  (0, 51730)\t1\n",
      "  (0, 109271)\t1\n",
      "  (0, 128026)\t1\n",
      "  (0, 96144)\t1\n",
      "  (0, 78784)\t1\n",
      "  (0, 63363)\t1\n",
      "  (0, 90252)\t1\n",
      "  (0, 123989)\t1\n",
      "  (0, 67156)\t1\n",
      "  (0, 128402)\t2\n",
      "  (0, 62221)\t1\n",
      "  (0, 57308)\t1\n",
      "  (0, 76722)\t1\n",
      "  (0, 94362)\t1\n",
      "  (0, 78955)\t1\n",
      "  (0, 114428)\t1\n",
      "  (0, 66098)\t1\n",
      "  (0, 35187)\t1\n",
      "  (0, 35983)\t1\n",
      "  (0, 128420)\t1\n",
      "  (0, 86580)\t1\n"
     ]
    }
   ],
   "source": [
    "print(X_train_counts.shape)\n",
    "\n",
    "print(X_train_counts[0])"
   ]
  },
  {
   "attachments": {},
   "cell_type": "markdown",
   "metadata": {
    "colab_type": "text",
    "id": "T-t5zZN28Jy6"
   },
   "source": [
    "\n",
    "\n",
    "*   Biểu diễn văn bản bằng TF-IDF\n",
    "\n"
   ]
  },
  {
   "cell_type": "code",
   "execution_count": 41,
   "metadata": {
    "colab": {},
    "colab_type": "code",
    "id": "yXIYBykIDXZe"
   },
   "outputs": [],
   "source": [
    "# TF-IDF\n",
    "from sklearn.feature_extraction.text import TfidfTransformer\n",
    "tfidf_transformer = TfidfTransformer()\n",
    "X_train_tfidf = tfidf_transformer.fit_transform(X_train_counts)"
   ]
  },
  {
   "cell_type": "code",
   "execution_count": 42,
   "metadata": {
    "colab": {
     "base_uri": "https://localhost:8080/",
     "height": 901
    },
    "colab_type": "code",
    "executionInfo": {
     "elapsed": 884,
     "status": "ok",
     "timestamp": 1536205519991,
     "user": {
      "displayName": "Nguyen Minh-Tien",
      "photoUrl": "//lh3.googleusercontent.com/-yhO90KW_tl8/AAAAAAAAAAI/AAAAAAAABZU/ePgDYmZiwCk/s50-c-k-no/photo.jpg",
      "userId": "117108009012583044307"
     },
     "user_tz": -420
    },
    "id": "R1KErEzk-7K5",
    "outputId": "e26c1831-71f8-4746-cef0-bc737e8effae"
   },
   "outputs": [
    {
     "name": "stdout",
     "output_type": "stream",
     "text": [
      "(11314, 130107)\n",
      "  (0, 128420)\t0.04278499079283093\n",
      "  (0, 128402)\t0.05922294083277842\n",
      "  (0, 128026)\t0.060622095889758885\n",
      "  (0, 124931)\t0.08882569909852546\n",
      "  (0, 124031)\t0.10798795154169122\n",
      "  (0, 123989)\t0.08207027465330353\n",
      "  (0, 123984)\t0.036854292634593756\n",
      "  (0, 123796)\t0.049437556160455476\n",
      "  (0, 123292)\t0.14534718515938805\n",
      "  (0, 123162)\t0.2597090245735688\n",
      "  (0, 118983)\t0.037085978050619146\n",
      "  (0, 118280)\t0.2118680720828169\n",
      "  (0, 115475)\t0.042472629883573\n",
      "  (0, 114731)\t0.14447275512784058\n",
      "  (0, 114688)\t0.06214070986309586\n",
      "  (0, 114579)\t0.03671830826216751\n",
      "  (0, 114455)\t0.12287762616208957\n",
      "  (0, 114428)\t0.05511105154696676\n",
      "  (0, 113986)\t0.17691750674853082\n",
      "  (0, 111322)\t0.01915671802495043\n",
      "  (0, 109581)\t0.10809248404447917\n",
      "  (0, 109271)\t0.10844724822064673\n",
      "  (0, 108252)\t0.07526015712540636\n",
      "  (0, 106116)\t0.09869734624201922\n",
      "  (0, 104813)\t0.08462829788929047\n",
      "  :\t:\n",
      "  (0, 56979)\t0.057470154074851294\n",
      "  (0, 51793)\t0.13412921037839678\n",
      "  (0, 51730)\t0.09714744057976722\n",
      "  (0, 50527)\t0.054614286588587246\n",
      "  (0, 50111)\t0.08452530453354308\n",
      "  (0, 48620)\t0.11603642565244157\n",
      "  (0, 48618)\t0.10015015488700592\n",
      "  (0, 45295)\t0.06621689096551565\n",
      "  (0, 42876)\t0.04951998622750595\n",
      "  (0, 40998)\t0.0780136819691811\n",
      "  (0, 37780)\t0.38133891259493113\n",
      "  (0, 37565)\t0.03431760442478462\n",
      "  (0, 37433)\t0.06908779999621749\n",
      "  (0, 35983)\t0.03770448563619875\n",
      "  (0, 35612)\t0.1328075333935896\n",
      "  (0, 35187)\t0.09353930598317124\n",
      "  (0, 34995)\t0.16713176431412632\n",
      "  (0, 34181)\t0.08716420445779295\n",
      "  (0, 32311)\t0.029911858621703466\n",
      "  (0, 28615)\t0.10278592160069082\n",
      "  (0, 27436)\t0.037098931990947055\n",
      "  (0, 26073)\t0.09534869974107982\n",
      "  (0, 18299)\t0.138749083899155\n",
      "  (0, 16574)\t0.14155752531572685\n",
      "  (0, 4605)\t0.06332603952480323\n"
     ]
    }
   ],
   "source": [
    "print(X_train_tfidf.shape)\n",
    "\n",
    "print(X_train_tfidf[0])\n",
    "\n",
    "#TF-IDF càng cao thì từ đó có sự quan trọng đặc biệt trong văn bản đó thay vì văn bản khác, đồng thời giảm sự quan trọng của các từ thông thường"
   ]
  },
  {
   "attachments": {},
   "cell_type": "markdown",
   "metadata": {
    "colab_type": "text",
    "id": "HUMHfH8v8wSV"
   },
   "source": [
    "**Huấn luyện mô hình**\n",
    "\n",
    "\n",
    "\n",
    "*   Khởi tạo đối tượng\n",
    "*   Huấn luyện mô hình\n",
    "*   Giải các tham số của NB\n",
    "\n"
   ]
  },
  {
   "cell_type": "code",
   "execution_count": 43,
   "metadata": {
    "colab": {},
    "colab_type": "code",
    "id": "8CW5wwRGDdcw"
   },
   "outputs": [],
   "source": [
    "# Building a pipeline: We can write less code and do all of the above, by building a pipeline as follows:\n",
    "# The names ‘vect’ , ‘tfidf’ and ‘clf’ are arbitrary but will be used later.\n",
    "# We will be using the 'text_clf' going forward.\n",
    "from sklearn.pipeline import Pipeline\n",
    "from sklearn.naive_bayes import MultinomialNB\n",
    "\n",
    "text_clf = Pipeline([('vect', CountVectorizer()), ('tfidf', TfidfTransformer()), ('clf', MultinomialNB())])\n",
    "\n",
    "text_clf = text_clf.fit(twenty_train.data, twenty_train.target)"
   ]
  },
  {
   "attachments": {},
   "cell_type": "markdown",
   "metadata": {
    "colab_type": "text",
    "id": "NkcioOfeBwoF"
   },
   "source": [
    "**Lưu ý khi thiết lập thực nghiệm**\n",
    "\n",
    "Ở đây, chúng ta sử dụng cách chia dữ liệu làm 2 phần, training-test.\n",
    "Chúng ta cũng có thể sử dụng cách k-fold cross-valiation"
   ]
  },
  {
   "attachments": {},
   "cell_type": "markdown",
   "metadata": {
    "colab_type": "text",
    "id": "OW5S_xHgDJTg"
   },
   "source": [
    "**Trực quan hóa quá trình huấn luyện của NB**"
   ]
  },
  {
   "cell_type": "code",
   "execution_count": 44,
   "metadata": {
    "colab": {},
    "colab_type": "code",
    "id": "DHcX7bGKDMwN"
   },
   "outputs": [],
   "source": [
    "import numpy as np\n",
    "import matplotlib.pyplot as plt\n",
    "from sklearn.model_selection import learning_curve\n",
    "from sklearn.naive_bayes import MultinomialNB\n",
    "from sklearn.model_selection import ShuffleSplit\n",
    "\n",
    "\n",
    "def plot_learning_curve(estimator, title, X, y, ylim=None, cv=None,\n",
    "                        n_jobs=1, train_sizes=np.linspace(.1, 1.0, 5)):\n",
    "  \n",
    "  \"\"\"\n",
    "    Generate a simple plot of the test and training learning curve.\n",
    "\n",
    "    Parameters\n",
    "    ----------\n",
    "    estimator : object type that implements the \"fit\" and \"predict\" methods\n",
    "        An object of that type which is cloned for each validation.\n",
    "\n",
    "    title : string\n",
    "        Title for the chart.\n",
    "\n",
    "    X : array-like, shape (n_samples, n_features)\n",
    "        Training vector, where n_samples is the number of samples and\n",
    "        n_features is the number of features.\n",
    "\n",
    "    y : array-like, shape (n_samples) or (n_samples, n_features), optional\n",
    "        Target relative to X for classification or regression;\n",
    "        None for unsupervised learning.\n",
    "\n",
    "    ylim : tuple, shape (ymin, ymax), optional\n",
    "        Defines minimum and maximum yvalues plotted.\n",
    "\n",
    "    cv : int, cross-validation generator or an iterable, optional\n",
    "        Determines the cross-validation splitting strategy.\n",
    "        Possible inputs for cv are:\n",
    "          - None, to use the default 3-fold cross-validation,\n",
    "          - integer, to specify the number of folds.\n",
    "          - An object to be used as a cross-validation generator.\n",
    "          - An iterable yielding train/test splits.\n",
    "\n",
    "        For integer/None inputs, if ``y`` is binary or multiclass,\n",
    "        :class:`StratifiedKFold` used. If the estimator is not a classifier\n",
    "        or if ``y`` is neither binary nor multiclass, :class:`KFold` is used.\n",
    "\n",
    "        Refer :ref:`User Guide <cross_validation>` for the various\n",
    "        cross-validators that can be used here.\n",
    "\n",
    "    n_jobs : integer, optional\n",
    "        Number of jobs to run in parallel (default 1).\n",
    "    \"\"\"\n",
    "  \n",
    "  plt.figure()\n",
    "  plt.title(title)\n",
    "  if ylim is not None:\n",
    "    plt.ylim(*ylim)\n",
    "  plt.xlabel(\"Training examples\")\n",
    "  plt.ylabel(\"Score\")\n",
    "  train_sizes, train_scores, test_scores = learning_curve(\n",
    "      estimator, X, y, cv=cv, n_jobs=n_jobs, train_sizes=train_sizes)\n",
    "  train_scores_mean = np.mean(train_scores, axis=1)\n",
    "  train_scores_std = np.std(train_scores, axis=1)\n",
    "  test_scores_mean = np.mean(test_scores, axis=1)\n",
    "  test_scores_std = np.std(test_scores, axis=1)\n",
    "  plt.grid()\n",
    "\n",
    "  plt.fill_between(train_sizes, train_scores_mean - train_scores_std,\n",
    "                     train_scores_mean + train_scores_std, alpha=0.1,\n",
    "                     color=\"r\")\n",
    "  plt.fill_between(train_sizes, test_scores_mean - test_scores_std,\n",
    "                     test_scores_mean + test_scores_std, alpha=0.1, color=\"g\")\n",
    "  plt.plot(train_sizes, train_scores_mean, 'o-', color=\"r\",\n",
    "             label=\"Training score\")\n",
    "  plt.plot(train_sizes, test_scores_mean, 'o-', color=\"g\",\n",
    "             label=\"Cross-validation score\")\n",
    "\n",
    "  plt.legend(loc=\"best\")\n",
    "  return plt"
   ]
  },
  {
   "cell_type": "code",
   "execution_count": 45,
   "metadata": {
    "colab": {
     "base_uri": "https://localhost:8080/",
     "height": 376
    },
    "colab_type": "code",
    "executionInfo": {
     "elapsed": 111758,
     "status": "ok",
     "timestamp": 1536217326418,
     "user": {
      "displayName": "Nguyen Minh-Tien",
      "photoUrl": "//lh3.googleusercontent.com/-yhO90KW_tl8/AAAAAAAAAAI/AAAAAAAABZU/ePgDYmZiwCk/s50-c-k-no/photo.jpg",
      "userId": "117108009012583044307"
     },
     "user_tz": -420
    },
    "id": "_NezUE8OrC5W",
    "outputId": "29e83578-e05f-475c-e224-08d25c579e05"
   },
   "outputs": [
    {
     "data": {
      "image/png": "[encoded data removed]",
      "text/plain": [
       "<Figure size 432x288 with 1 Axes>"
      ]
     },
     "metadata": {
      "needs_background": "light"
     },
     "output_type": "display_data"
    }
   ],
   "source": [
    "estimator = MultinomialNB()\n",
    "title = \"Learning Curves (Naive Bayes)\"\n",
    "# Cross validation with 100 iterations to get smoother mean test and train\n",
    "# score curves, each time with 20% data randomly selected as a validation set.\n",
    "\n",
    "cv = ShuffleSplit(n_splits=100, test_size=0.3, random_state=0)\n",
    "X, y = X_train_tfidf, twenty_train.target\n",
    "plot_learning_curve(estimator, title, X, y, ylim=(0.0, 1.01), cv=cv, n_jobs=8)\n",
    "plt.show()"
   ]
  },
  {
   "attachments": {},
   "cell_type": "markdown",
   "metadata": {
    "colab_type": "text",
    "id": "u9qAeISq_oqm"
   },
   "source": [
    "**Đánh giá mô hình trên dữ liệu test**"
   ]
  },
  {
   "cell_type": "code",
   "execution_count": 46,
   "metadata": {
    "colab": {
     "base_uri": "https://localhost:8080/",
     "height": 34
    },
    "colab_type": "code",
    "executionInfo": {
     "elapsed": 3002,
     "status": "ok",
     "timestamp": 1536249863911,
     "user": {
      "displayName": "Nguyen Minh-Tien",
      "photoUrl": "//lh3.googleusercontent.com/-yhO90KW_tl8/AAAAAAAAAAI/AAAAAAAABZU/ePgDYmZiwCk/s50-c-k-no/photo.jpg",
      "userId": "117108009012583044307"
     },
     "user_tz": -420
    },
    "id": "QJkKTuhi_45g",
    "outputId": "5664eab1-e0eb-49dd-f2e0-597a39fc93a2",
    "tags": []
   },
   "outputs": [
    {
     "data": {
      "text/plain": [
       "0.7738980350504514"
      ]
     },
     "execution_count": 46,
     "metadata": {},
     "output_type": "execute_result"
    }
   ],
   "source": [
    "import numpy as np\n",
    "\n",
    "twenty_test = fetch_20newsgroups(subset='test', shuffle=True)\n",
    "predicted = text_clf.predict(twenty_test.data) # dự đoán các bài báo trong tập test thuộc các lớp nào\n",
    "np.mean(predicted == twenty_test.target) #trả về xác suất dự đoán trung bình cho tất cả tập test"
   ]
  },
  {
   "attachments": {},
   "cell_type": "markdown",
   "metadata": {
    "colab_type": "text",
    "id": "HYFirOEimGrg"
   },
   "source": [
    "**Confusion matrix**"
   ]
  },
  {
   "cell_type": "code",
   "execution_count": 47,
   "metadata": {
    "colab": {
     "base_uri": "https://localhost:8080/",
     "height": 697
    },
    "colab_type": "code",
    "executionInfo": {
     "elapsed": 870,
     "status": "ok",
     "timestamp": 1536250037185,
     "user": {
      "displayName": "Nguyen Minh-Tien",
      "photoUrl": "//lh3.googleusercontent.com/-yhO90KW_tl8/AAAAAAAAAAI/AAAAAAAABZU/ePgDYmZiwCk/s50-c-k-no/photo.jpg",
      "userId": "117108009012583044307"
     },
     "user_tz": -420
    },
    "id": "R6w1raeZmJAa",
    "outputId": "8b7e09a6-a5b3-4cd7-fd26-3cef198d2f59"
   },
   "outputs": [
    {
     "data": {
      "image/png": "[encoded data removed]",
      "text/plain": [
       "<Figure size 720x720 with 1 Axes>"
      ]
     },
     "metadata": {
      "needs_background": "light"
     },
     "output_type": "display_data"
    },
    {
     "name": "stdout",
     "output_type": "stream",
     "text": [
      "[[166   0   0   1   0   1   0   0   1   1   1   3   0   6   3 123   4   8\n",
      "    0   1]\n",
      " [  1 252  15  12   9  18   1   2   1   5   2  41   4   0   6  15   4   1\n",
      "    0   0]\n",
      " [  0  14 258  45   3   9   0   2   1   3   2  25   1   0   6  23   2   0\n",
      "    0   0]\n",
      " [  0   5  11 305  17   1   3   6   1   0   2  19  13   0   5   3   1   0\n",
      "    0   0]\n",
      " [  0   3   8  23 298   0   3   8   1   3   1  16   8   0   2   8   3   0\n",
      "    0   0]\n",
      " [  1  21  17  13   2 298   1   0   1   1   0  23   0   1   4  10   2   0\n",
      "    0   0]\n",
      " [  0   1   3  31  12   1 271  19   4   4   6   5  12   6   3   9   3   0\n",
      "    0   0]\n",
      " [  0   1   0   3   0   0   4 364   3   2   2   4   1   1   3   3   4   0\n",
      "    1   0]\n",
      " [  0   0   0   1   0   0   2  10 371   0   0   4   0   0   0   8   2   0\n",
      "    0   0]\n",
      " [  0   0   0   0   1   0   0   4   0 357  22   0   0   0   2   9   1   1\n",
      "    0   0]\n",
      " [  0   0   0   0   0   0   0   1   0   4 387   1   0   0   1   5   0   0\n",
      "    0   0]\n",
      " [  0   2   1   0   0   1   1   3   0   0   0 383   1   0   0   3   1   0\n",
      "    0   0]\n",
      " [  0   4   2  17   5   0   2   8   7   1   2  78 235   3  11  15   2   1\n",
      "    0   0]\n",
      " [  2   3   0   1   1   3   1   0   2   3   4  11   5 292   6  52   6   4\n",
      "    0   0]\n",
      " [  0   2   0   1   0   3   0   2   1   0   1   6   1   2 351  19   4   0\n",
      "    1   0]\n",
      " [  2   0   0   0   0   0   0   0   1   0   0   0   0   1   2 392   0   0\n",
      "    0   0]\n",
      " [  0   0   0   1   0   0   2   0   1   1   0  10   0   0   1   6 341   1\n",
      "    0   0]\n",
      " [  0   1   0   0   0   0   0   0   0   1   0   2   0   0   0  24   3 344\n",
      "    1   0]\n",
      " [  2   0   0   0   0   0   0   1   0   0   1  11   0   1   7  35 118   5\n",
      "  129   0]\n",
      " [ 33   2   0   0   0   0   0   0   0   1   1   3   0   4   4 131  29   5\n",
      "    3  35]]\n"
     ]
    }
   ],
   "source": [
    "from sklearn.metrics import confusion_matrix\n",
    "# sử dụng confusion matrix để đánh giá chất lượng đầu ra của bộ phân loại trên tập dữ liệu test\n",
    "cm = confusion_matrix(twenty_test.target, predicted)\n",
    "plt.figure(figsize=(10,10))\n",
    "plt.imshow(cm, cmap=\"Reds\")\n",
    "plt.show()\n",
    "print(cm)"
   ]
  },
  {
   "attachments": {},
   "cell_type": "markdown",
   "metadata": {
    "colab_type": "text",
    "id": "i1CxVnSsFxwS"
   },
   "source": [
    "**Cải tiến mô hình**\n",
    "\n",
    "Hiệu quả của mô hình có thể cải tiến bằng nhiều phương pháp, trong đó một trong những phương pháp đơn giản là cải tiến quá trình chuyển từ văn bản sang không gian vector. Trong phần này, mô hình sẽ được cải tiếng bằng cách sử dụng:\n",
    "\n",
    "\n",
    "\n",
    "*   Loại bỏ các từ dừng\n",
    "*   Đưa một từ về từ gốc\n",
    "\n"
   ]
  },
  {
   "attachments": {},
   "cell_type": "markdown",
   "metadata": {
    "colab_type": "text",
    "id": "Joa1wfGrGZrJ"
   },
   "source": [
    "\n",
    "\n",
    "*   Khởi tạo mô hình có dùng thêm tham số loại bỏ đi các từ dừng\n",
    "\n"
   ]
  },
  {
   "cell_type": "code",
   "execution_count": 48,
   "metadata": {
    "colab": {},
    "colab_type": "code",
    "id": "evkfAxlxEpX7"
   },
   "outputs": [],
   "source": [
    "# NLTK\n",
    "# Removing stop words in English\n",
    "#Loại bỏ stop words: Những từ xuất hiện thường xuyên trong bất kỳ văn bản nào như 'and', 'the', 'of', ... được loại bỏ.\n",
    "from sklearn.pipeline import Pipeline\n",
    "text_clf = Pipeline([('vect', CountVectorizer(stop_words='english')), ('tfidf', TfidfTransformer()), \n",
    "                     ('clf', MultinomialNB())])"
   ]
  },
  {
   "attachments": {},
   "cell_type": "markdown",
   "metadata": {
    "colab_type": "text",
    "id": "vJqXpjXkHRYH"
   },
   "source": [
    "\n",
    "\n",
    "*   Sử dụng stemming(gốc từ), và huấn luyện lại mô hình\n",
    "*   When downloading NLTK, you mal use *all* to download all packages\n",
    "\n"
   ]
  },
  {
   "cell_type": "code",
   "execution_count": 49,
   "metadata": {
    "colab": {
     "base_uri": "https://localhost:8080/",
     "height": 119
    },
    "colab_type": "code",
    "executionInfo": {
     "elapsed": 10487,
     "status": "ok",
     "timestamp": 1536208168647,
     "user": {
      "displayName": "Nguyen Minh-Tien",
      "photoUrl": "//lh3.googleusercontent.com/-yhO90KW_tl8/AAAAAAAAAAI/AAAAAAAABZU/ePgDYmZiwCk/s50-c-k-no/photo.jpg",
      "userId": "117108009012583044307"
     },
     "user_tz": -420
    },
    "id": "rJalvovLI9tn",
    "outputId": "8f3e95a5-c815-4ce4-fae7-2ab7066ea535"
   },
   "outputs": [
    {
     "name": "stderr",
     "output_type": "stream",
     "text": [
      "[nltk_data] Downloading package stopwords to\n",
      "[nltk_data]     C:\\Users\\Long\\AppData\\Roaming\\nltk_data...\n",
      "[nltk_data]   Package stopwords is already up-to-date!\n"
     ]
    },
    {
     "data": {
      "text/plain": [
       "True"
      ]
     },
     "execution_count": 49,
     "metadata": {},
     "output_type": "execute_result"
    }
   ],
   "source": [
    "# Stemming Code\n",
    "\n",
    "import nltk\n",
    "nltk.download('stopwords')"
   ]
  },
  {
   "cell_type": "code",
   "execution_count": 50,
   "metadata": {
    "colab": {
     "base_uri": "https://localhost:8080/",
     "height": 51
    },
    "colab_type": "code",
    "executionInfo": {
     "elapsed": 43553,
     "status": "ok",
     "timestamp": 1536208213552,
     "user": {
      "displayName": "Nguyen Minh-Tien",
      "photoUrl": "//lh3.googleusercontent.com/-yhO90KW_tl8/AAAAAAAAAAI/AAAAAAAABZU/ePgDYmZiwCk/s50-c-k-no/photo.jpg",
      "userId": "117108009012583044307"
     },
     "user_tz": -420
    },
    "id": "0uasMiOBEvAB",
    "outputId": "7b7dc0c3-008e-4d52-a68c-34494b070904"
   },
   "outputs": [
    {
     "name": "stdout",
     "output_type": "stream",
     "text": [
      "steming the corpus... Please wait...\n"
     ]
    },
    {
     "data": {
      "text/plain": [
       "0.8167817312798725"
      ]
     },
     "execution_count": 50,
     "metadata": {},
     "output_type": "execute_result"
    }
   ],
   "source": [
    "print('steming the corpus... Please wait...')\n",
    "\n",
    "from nltk.stem.snowball import SnowballStemmer\n",
    "stemmer = SnowballStemmer(\"english\", ignore_stopwords=True)\n",
    "\n",
    "class StemmedCountVectorizer(CountVectorizer):\n",
    "    def build_analyzer(self):\n",
    "        analyzer = super(StemmedCountVectorizer, self).build_analyzer()\n",
    "        #áp dụng stemming (stemmer.stem(w)) lên từng từ trong văn bản\n",
    "        return lambda doc: ([stemmer.stem(w) for w in analyzer(doc)])\n",
    "    \n",
    "stemmed_count_vect = StemmedCountVectorizer(stop_words='english')\n",
    "\n",
    "text_mnb_stemmed = Pipeline([('vect', stemmed_count_vect), ('tfidf', TfidfTransformer()), \n",
    "                             ('mnb', MultinomialNB(fit_prior=False))])\n",
    "\n",
    "text_mnb_stemmed = text_mnb_stemmed.fit(twenty_train.data, twenty_train.target)\n",
    "\n",
    "predicted_mnb_stemmed = text_mnb_stemmed.predict(twenty_test.data)\n",
    "\n",
    "np.mean(predicted_mnb_stemmed == twenty_test.target)"
   ]
  },
  {
   "attachments": {},
   "cell_type": "markdown",
   "metadata": {
    "colab_type": "text",
    "id": "vwUWDuUcJWfk"
   },
   "source": [
    "**So sánh với phương pháp phân loại SVM**"
   ]
  },
  {
   "cell_type": "code",
   "execution_count": 51,
   "metadata": {
    "colab": {
     "base_uri": "https://localhost:8080/",
     "height": 68
    },
    "colab_type": "code",
    "executionInfo": {
     "elapsed": 8180,
     "status": "ok",
     "timestamp": 1534344530010,
     "user": {
      "displayName": "Nguyen Minh-Tien",
      "photoUrl": "//lh3.googleusercontent.com/-yhO90KW_tl8/AAAAAAAAAAI/AAAAAAAAAYU/IOarAPM6V8c/s50-c-k-no/photo.jpg",
      "userId": "117108009012583044307"
     },
     "user_tz": -420
    },
    "id": "3wtz10wZD1hP",
    "outputId": "e9d63407-b6a7-4212-ce8b-bfffa066419d"
   },
   "outputs": [
    {
     "data": {
      "text/plain": [
       "0.8240839086563994"
      ]
     },
     "execution_count": 51,
     "metadata": {},
     "output_type": "execute_result"
    }
   ],
   "source": [
    "# Training Support Vector Machines - SVM and calculating its performance\n",
    "\n",
    "from sklearn.linear_model import SGDClassifier\n",
    "text_clf_svm = Pipeline([('vect', CountVectorizer()), ('tfidf', TfidfTransformer()),\n",
    "                         ('clf-svm', SGDClassifier(loss='hinge', penalty='l2',alpha=1e-3, n_iter_no_change=5, \n",
    "                                                   random_state=42))])\n",
    "\n",
    "text_clf_svm = text_clf_svm.fit(twenty_train.data, twenty_train.target)\n",
    "predicted_svm = text_clf_svm.predict(twenty_test.data)\n",
    "np.mean(predicted_svm == twenty_test.target)"
   ]
  },
  {
   "attachments": {},
   "cell_type": "markdown",
   "metadata": {
    "colab_type": "text",
    "id": "mTNivhM7J7l2"
   },
   "source": [
    "**Trực quan hoá quá trình huấn luyện của NB và SVM**"
   ]
  },
  {
   "cell_type": "code",
   "execution_count": 52,
   "metadata": {
    "colab": {
     "base_uri": "https://localhost:8080/",
     "height": 2435
    },
    "colab_type": "code",
    "executionInfo": {
     "elapsed": 140429,
     "status": "ok",
     "timestamp": 1536228239889,
     "user": {
      "displayName": "Nguyen Minh-Tien",
      "photoUrl": "//lh3.googleusercontent.com/-yhO90KW_tl8/AAAAAAAAAAI/AAAAAAAABZU/ePgDYmZiwCk/s50-c-k-no/photo.jpg",
      "userId": "117108009012583044307"
     },
     "user_tz": -420
    },
    "id": "fbI8AU__KCNM",
    "outputId": "1b0efc9a-5065-476e-f8fd-ecc3e25137f3"
   },
   "outputs": [
    {
     "data": {
      "image/png": "[encoded data removed]",
      "text/plain": [
       "<Figure size 432x288 with 1 Axes>"
      ]
     },
     "metadata": {
      "needs_background": "light"
     },
     "output_type": "display_data"
    },
    {
     "data": {
      "image/png": "[encoded data removed]",
      "text/plain": [
       "<Figure size 432x288 with 1 Axes>"
      ]
     },
     "metadata": {
      "needs_background": "light"
     },
     "output_type": "display_data"
    }
   ],
   "source": [
    "estimator = MultinomialNB()\n",
    "title = \"Learning Curves (Naive Bayes)\"\n",
    "# Cross validation with 100 iterations to get smoother mean test and train\n",
    "# score curves, each time with 20% data randomly selected as a validation set.\n",
    "\n",
    "cv = ShuffleSplit(n_splits=100, test_size=0.3, random_state=0)\n",
    "X, y = X_train_tfidf, twenty_train.target\n",
    "plot_learning_curve(estimator, title, X, y, ylim=(0.0, 0.95), cv=cv, n_jobs=8)\n",
    "\n",
    "#from sklearn.svm import SVC\n",
    "\n",
    "from sklearn.linear_model import SGDClassifier\n",
    "\n",
    "#title = \"Learning Curves (SVM, RBF kernel, $\\gamma=0.001$)\"\n",
    "title = \"Learning Curves (SVM, linear kernel)\"\n",
    "# SVC is more expensive so we do a lower number of CV iterations:\n",
    "cv = ShuffleSplit(n_splits=10, test_size=0.2, random_state=0)\n",
    "\n",
    "#estimator = SVC(gamma=0.001)\n",
    "\n",
    "estimator = SGDClassifier(loss='hinge', penalty='l2',alpha=1e-3, n_iter_no_change=5, random_state=42, verbose=0)\n",
    "plot_learning_curve(estimator, title, X, y, ylim=(0.5, 1.1), cv=cv, n_jobs=8)\n",
    "\n",
    "plt.show()"
   ]
  },
  {
   "attachments": {},
   "cell_type": "markdown",
   "metadata": {
    "colab_type": "text",
    "id": "LKRmoRjBJcwo"
   },
   "source": [
    "**Sử dụng GridSearch để tìm tham số phù hợp**\n",
    "\n",
    "Có thể sử dụng thuật toán GridSearch để tìm tham số phù hợp--> tăng độ tốt của mô hình.\n",
    "Tuy nhiên, thuật toán này có nhược điểm là tốc độ chậm nên có thể phù hợp với bộ dữ liệu nhỏ.\n",
    "Với bộ dữ liệu lớn thuật toán chạy trong thời gian lâu"
   ]
  },
  {
   "cell_type": "code",
   "execution_count": 53,
   "metadata": {
    "colab": {},
    "colab_type": "code",
    "id": "BcF_wQB6D8fW"
   },
   "outputs": [
    {
     "data": {
      "text/plain": [
       "'\\nngram_range được đặt là [(1, 1), (1, 2)], \\ncó nghĩa là CountVectorizer sẽ tạo ra các đặc trưng từ một từ đơn (unigram) và các cặp từ liền kề (bigram).\\n(1, 1) đại diện cho unigram, nghĩa là mỗi từ trong văn bản ban đầu sẽ được coi là một đặc trưng riêng biệt.\\n(1, 2) đại diện cho bigram, nghĩa là mỗi cặp từ liền kề trong văn bản sẽ được coi là một đặc trưng riêng biệt.\\n'"
      ]
     },
     "execution_count": 53,
     "metadata": {},
     "output_type": "execute_result"
    }
   ],
   "source": [
    "# Grid Search\n",
    "# Here, we are creating a list of parameters for which we would like to do performance tuning. \n",
    "# All the parameters name start with the classifier name (remember the arbitrary name we gave). \n",
    "# E.g. vect__ngram_range; here we are telling to use unigram and bigrams and choose the one which is optimal.\n",
    "\n",
    "from sklearn.model_selection import GridSearchCV\n",
    "#cv ko đƯợc chỉ định nên mặc định là 5-fold cross-validation\n",
    "parameters = {'vect__ngram_range': [(1, 1),(1, 2),(1, 3)], 'tfidf__use_idf': (True, False), 'clf__alpha': (1e-2, 1e-3)}\n",
    "\n",
    "'''\n",
    "ngram_range được đặt là [(1, 1), (1, 2)], \n",
    "có nghĩa là CountVectorizer sẽ tạo ra các đặc trưng từ một từ đơn (unigram) và các cặp từ liền kề (bigram).\n",
    "(1, 1) đại diện cho unigram, nghĩa là mỗi từ trong văn bản ban đầu sẽ được coi là một đặc trưng riêng biệt.\n",
    "(1, 2) đại diện cho bigram, nghĩa là mỗi cặp từ liền kề trong văn bản sẽ được coi là một đặc trưng riêng biệt.\n",
    "'''"
   ]
  },
  {
   "cell_type": "code",
   "execution_count": 54,
   "metadata": {
    "colab": {},
    "colab_type": "code",
    "id": "icitPwKEEDUN"
   },
   "outputs": [],
   "source": [
    "# Next, we create an instance of the grid search by passing the classifier, parameters \n",
    "# and n_jobs=-1 which tells to use multiple cores from user machine.\n",
    "# text_clf = Pipeline([('vect', CountVectorizer(stop_words='english')), ('tfidf', TfidfTransformer()), \n",
    "#                      ('clf', MultinomialNB())])\n",
    "\n",
    "gs_clf = GridSearchCV(text_clf, parameters, n_jobs=-1)\n",
    "gs_clf = gs_clf.fit(twenty_train.data, twenty_train.target)"
   ]
  },
  {
   "cell_type": "code",
   "execution_count": 55,
   "metadata": {
    "colab": {},
    "colab_type": "code",
    "id": "UfeAIGXlEgH3"
   },
   "outputs": [
    {
     "name": "stdout",
     "output_type": "stream",
     "text": [
      "0.9129399133330441\n",
      "{'clf__alpha': 0.01, 'tfidf__use_idf': True, 'vect__ngram_range': (1, 2)}\n"
     ]
    },
    {
     "data": {
      "text/plain": [
       "\"\\n0.9129399133330441 use stop word\\n{'clf__alpha': 0.01, 'tfidf__use_idf': True, 'vect__ngram_range': (1, 2)}\\n\\n0.909757905302422 use steammed\\n{'clf__alpha': 0.01, 'tfidf__use_idf': False}\\n\\n\""
      ]
     },
     "execution_count": 55,
     "metadata": {},
     "output_type": "execute_result"
    }
   ],
   "source": [
    "# To see the best mean score and the params, run the following code\n",
    "\n",
    "print(gs_clf.best_score_)\n",
    "print(gs_clf.best_params_)\n",
    "\n",
    "'''\n",
    "0.9129399133330441 use stop word\n",
    "{'clf__alpha': 0.01, 'tfidf__use_idf': True, 'vect__ngram_range': (1, 2)}\n",
    "\n",
    "0.909757905302422 use steammed\n",
    "{'clf__alpha': 0.01, 'tfidf__use_idf': False}\n",
    "\n",
    "'''\n",
    "\n",
    "# Output for above should be: The accuracy has now increased to ~90.6% for the NB classifier (not so naive anymore! 😄)\n",
    "# and the corresponding parameters are {‘clf__alpha’: 0.01, ‘tfidf__use_idf’: True, ‘vect__ngram_range’: (1, 2)}."
   ]
  },
  {
   "cell_type": "code",
   "execution_count": 56,
   "metadata": {},
   "outputs": [
    {
     "name": "stdout",
     "output_type": "stream",
     "text": [
      "Ensemble Model Accuracy: 0.9083946980854197\n"
     ]
    }
   ],
   "source": [
    "from sklearn.datasets import fetch_20newsgroups\n",
    "from sklearn.feature_extraction.text import CountVectorizer, TfidfTransformer\n",
    "from sklearn.naive_bayes import MultinomialNB\n",
    "from sklearn.ensemble import VotingClassifier\n",
    "from sklearn.model_selection import train_test_split\n",
    "from sklearn.metrics import accuracy_score\n",
    "\n",
    "from sklearn.naive_bayes import MultinomialNB\n",
    "\n",
    "\n",
    "# Chia dữ liệu thành tập huấn luyện và tập kiểm tra\n",
    "X_train, X_test, y_train, y_test = train_test_split(twenty_train.data, twenty_train.target, test_size=0.3, random_state=42)\n",
    "\n",
    "# Tạo các mô hình đơn lẻ\n",
    "text_mnb_stemmed = Pipeline([('vect', StemmedCountVectorizer(stop_words='english')), ('tfidf', TfidfTransformer(use_idf=False)), \n",
    "                             ('mnb', MultinomialNB(fit_prior=False))])\n",
    "\n",
    "text_clf = Pipeline([('vect', CountVectorizer(stop_words='english',ngram_range=(1, 2))), ('tfidf', TfidfTransformer(use_idf=True)), \n",
    "                      ('clf', MultinomialNB(alpha=0.01))])\n",
    "\n",
    "# Tạo mô hình kết hợp (ensemble model)\n",
    "ensemble_model = VotingClassifier([('text_mnb_stemmed', text_mnb_stemmed), ('text_clf', text_clf)], voting='soft')\n",
    "\n",
    "# Huấn luyện mô hình kết hợp\n",
    "ensemble_model.fit(X_train, y_train)\n",
    "\n",
    "# Dự đoán trên tập kiểm tra\n",
    "y_pred = ensemble_model.predict(X_test)\n",
    "\n",
    "# Tính toán độ chính xác trên tập kiểm tra\n",
    "accuracy = accuracy_score(y_test, y_pred)\n",
    "print(\"Ensemble Model Accuracy:\", accuracy)\n"
   ]
  }
 ],
 "metadata": {
  "colab": {
   "collapsed_sections": [],
   "name": "NB_20_group_classification.ipynb",
   "provenance": [],
   "version": "0.3.2"
  },
  "kernelspec": {
   "display_name": "Python 3 (ipykernel)",
   "language": "python",
   "name": "python3"
  },
  "language_info": {
   "codemirror_mode": {
    "name": "ipython",
    "version": 3
   },
   "file_extension": ".py",
   "mimetype": "text/x-python",
   "name": "python",
   "nbconvert_exporter": "python",
   "pygments_lexer": "ipython3",
   "version": "3.9.12"
  }
 },
 "nbformat": 4,
 "nbformat_minor": 1
}
