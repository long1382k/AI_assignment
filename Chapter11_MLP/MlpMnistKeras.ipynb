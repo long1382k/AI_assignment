{
 "cells": [
  {
   "cell_type": "markdown",
   "metadata": {},
   "source": [
    "# Ví dụ về Multilayer Perceptron với tập MNIST\n",
    "Xây dựng mạng fully connected với 2 lớp ẩn sử dụng Keras"
   ]
  },
  {
   "cell_type": "markdown",
   "metadata": {},
   "source": [
    "## Tổng quan về Neural Network\n",
    "\n",
    "<img src=\"http://cs231n.github.io/assets/nn1/neural_net2.jpeg\" alt=\"nn\" style=\"width: 400px;\"/>\n",
    "\n",
    "## Tập dữ liệu MNIST\n",
    "\n",
    "Ví dụ này sử dụng tập ảnh chữ số viết tay MNIST. MNIST gồm 60,000 ảnh cho huấn luyện và 10,000 ảnh cho kiểm thử mô hình. Mọi ảnh chữ số viết tay trong tập dữ liệu được chuẩn hóa về kích thước, cụ thể là (28x28) với giá trị pixels nằm trong khoảng 0 đến 1. Để đơn giản bài troán, mỗi ảnh được trải phẳng thành mảng numpy một chiều (784 thành phần)\n",
    "\n",
    "![MNIST Dataset](http://neuralnetworksanddeeplearning.com/images/mnist_100_digits.png)\n",
    "\n",
    "Tham khảo: http://yann.lecun.com/exdb/mnist/"
   ]
  },
  {
   "cell_type": "markdown",
   "metadata": {},
   "source": [
    "### Tải về dữ liệu MNIST"
   ]
  },
  {
   "cell_type": "code",
   "execution_count": 1,
   "metadata": {
    "collapsed": true
   },
   "outputs": [],
   "source": [
    "import tensorflow as tf\n",
    "\n",
    "# Import MNIST data\n",
    "mnist = tf.keras.datasets.mnist\n",
    "(x_train, y_train),(x_test, y_test) = mnist.load_data()"
   ]
  },
  {
   "cell_type": "markdown",
   "metadata": {},
   "source": [
    "### Normalize và onehot"
   ]
  },
  {
   "cell_type": "code",
   "execution_count": 2,
   "metadata": {},
   "outputs": [
    {
     "output_type": "stream",
     "name": "stdout",
     "text": [
      "(60000, 28, 28)\n",
      "(10000, 28, 28)\n",
      "(60000, 10)\n",
      "(10000, 10)\n",
      "Using TensorFlow backend.\n"
     ]
    }
   ],
   "source": [
    "x_train = x_train/255\n",
    "x_test = x_test/255\n",
    "\n",
    "# one hot\n",
    "import keras\n",
    "num_classes = 10 # Tổng số lớp của MNIST (các số từ 0-9)\n",
    "\n",
    "y_train = keras.utils.to_categorical(y_train, num_classes)\n",
    "y_test = keras.utils.to_categorical(y_test, num_classes)\n",
    "\n",
    "print(x_train.shape)\n",
    "print(x_test.shape)\n",
    "print(y_train.shape)\n",
    "print(y_test.shape)"
   ]
  },
  {
   "cell_type": "markdown",
   "metadata": {},
   "source": [
    "### Tham số mô hình"
   ]
  },
  {
   "cell_type": "code",
   "execution_count": 25,
   "metadata": {
    "collapsed": true
   },
   "outputs": [],
   "source": [
    "n_hidden_1 = 128 # layer thứ nhất với 256 neurons\n",
    "n_hidden_2 = 256 # layer thứ hai với 256 neurons\n",
    "num_input = 784 # Số features đầu vào (tập MNIST với shape: 28*28)"
   ]
  },
  {
   "cell_type": "markdown",
   "metadata": {},
   "source": [
    "### Siêu tham số"
   ]
  },
  {
   "cell_type": "code",
   "execution_count": 26,
   "metadata": {
    "collapsed": true
   },
   "outputs": [],
   "source": [
    "learning_rate = 0.1\n",
    "num_epoch = 10\n",
    "batch_size = 128"
   ]
  },
  {
   "cell_type": "markdown",
   "metadata": {},
   "source": [
    "## Xây dựng mô hình"
   ]
  },
  {
   "cell_type": "code",
   "execution_count": 29,
   "metadata": {},
   "outputs": [
    {
     "output_type": "stream",
     "name": "stdout",
     "text": [
      "Epoch 1/10\n",
      "60000/60000 [==============================] - 3s 50us/step - loss: 0.4605 - accuracy: 0.8720\n",
      "Epoch 2/10\n",
      "60000/60000 [==============================] - 3s 47us/step - loss: 0.2135 - accuracy: 0.9379\n",
      "Epoch 3/10\n",
      "60000/60000 [==============================] - 3s 43us/step - loss: 0.1599 - accuracy: 0.9533\n",
      "Epoch 4/10\n",
      "60000/60000 [==============================] - 3s 46us/step - loss: 0.1283 - accuracy: 0.9619\n",
      "Epoch 5/10\n",
      "60000/60000 [==============================] - 3s 43us/step - loss: 0.1073 - accuracy: 0.9685\n",
      "Epoch 6/10\n",
      "60000/60000 [==============================] - 3s 48us/step - loss: 0.0918 - accuracy: 0.9732\n",
      "Epoch 7/10\n",
      "60000/60000 [==============================] - 3s 44us/step - loss: 0.0801 - accuracy: 0.9767\n",
      "Epoch 8/10\n",
      "60000/60000 [==============================] - 3s 45us/step - loss: 0.0699 - accuracy: 0.9798\n",
      "Epoch 9/10\n",
      "60000/60000 [==============================] - 3s 48us/step - loss: 0.0622 - accuracy: 0.9823\n",
      "Epoch 10/10\n",
      "60000/60000 [==============================] - 3s 44us/step - loss: 0.0561 - accuracy: 0.9834\n"
     ]
    },
    {
     "output_type": "execute_result",
     "data": {
      "text/plain": [
       "<keras.callbacks.callbacks.History at 0x1ad1fb2da90>"
      ]
     },
     "metadata": {},
     "execution_count": 29
    }
   ],
   "source": [
    "# build model\n",
    "from keras.layers import *\n",
    "from keras.models import Sequential\n",
    "#from tensorflow.keras import layers\n",
    "\n",
    "'''\n",
    "#Tìm hiểu thêm\n",
    "input_shape = (28, 28)\n",
    "model = Sequential()\n",
    "model.add(Conv1D(28, kernel_size=(3), input_shape=input_shape))\n",
    "model.add(MaxPooling1D(pool_size=(2)))\n",
    "model.add(Flatten())  # Flattening the 2D arrays for fully connected layers\n",
    "model.add(Dense(128, activation=tf.nn.relu))\n",
    "model.add(Dropout(0.2))\n",
    "model.add(Dense(10, activation=tf.nn.softmax))\n",
    "model.compile(loss=keras.losses.categorical_crossentropy,\n",
    "              optimizer=keras.optimizers.SGD(lr=learning_rate),\n",
    "              metrics=['accuracy'])\n",
    "model.fit(x_train, y_train, batch_size=batch_size, epochs=num_epoch)\n",
    "'''\n",
    "model = Sequential()\n",
    "model.add(Flatten(input_shape=(28, 28)))\n",
    "model.add(Dense(n_hidden_1, activation='relu'))  # hidden layer1\n",
    "model.add(Dense(n_hidden_2, activation='relu'))  # hidden layer2\n",
    "model.add(Dense(num_classes, activation='softmax'))  # output layer\n",
    "# loss, optimizers\n",
    "model.compile(loss=keras.losses.categorical_crossentropy,\n",
    "              optimizer=keras.optimizers.SGD(lr=learning_rate),\n",
    "              metrics=['accuracy'])\n",
    "model.fit(x_train, y_train, batch_size=batch_size, epochs=num_epoch)"
   ]
  },
  {
   "cell_type": "markdown",
   "metadata": {},
   "source": [
    "### Kiểm thử mô hình"
   ]
  },
  {
   "cell_type": "code",
   "execution_count": 30,
   "metadata": {},
   "outputs": [
    {
     "output_type": "stream",
     "name": "stdout",
     "text": [
      "10000/10000 [==============================] - 1s 115us/step\n",
      "Test loss: 0.0782\n",
      "Test accuracy: 97.56%\n"
     ]
    }
   ],
   "source": [
    "score = model.evaluate(x_test, y_test)\n",
    "print('Test loss: %.4f' % (score[0]))\n",
    "print('Test accuracy: %.2f%%' % (score[1]*100))"
   ]
  },
  {
   "cell_type": "markdown",
   "metadata": {},
   "source": [
    "### Dự đoán một vài điểm dữ liệu"
   ]
  },
  {
   "cell_type": "code",
   "execution_count": 9,
   "metadata": {},
   "outputs": [
    {
     "output_type": "display_data",
     "data": {
      "text/plain": "<Figure size 432x288 with 1 Axes>",
      "image/png": "[encoded data removed]"
     },
     "metadata": {
      "needs_background": "light"
     }
    },
    {
     "output_type": "display_data",
     "data": {
      "text/plain": "<Figure size 432x288 with 1 Axes>",
      "image/png": "[encoded data removed]"
     },
     "metadata": {
      "needs_background": "light"
     }
    },
    {
     "output_type": "display_data",
     "data": {
      "text/plain": "<Figure size 432x288 with 1 Axes>",
      "image/png": "[encoded data removed]"
     },
     "metadata": {
      "needs_background": "light"
     }
    },
    {
     "output_type": "display_data",
     "data": {
      "text/plain": "<Figure size 432x288 with 1 Axes>",
      "image/png": "[encoded data removed]"
     },
     "metadata": {
      "needs_background": "light"
     }
    },
    {
     "output_type": "display_data",
     "data": {
      "text/plain": "<Figure size 432x288 with 1 Axes>",
      "image/png": "[encoded data removed]"
     },
     "metadata": {
      "needs_background": "light"
     }
    },
    {
     "output_type": "display_data",
     "data": {
      "text/plain": "<Figure size 432x288 with 1 Axes>",
      "image/png": "[encoded data removed]"
     },
     "metadata": {
      "needs_background": "light"
     }
    },
    {
     "output_type": "display_data",
     "data": {
      "text/plain": "<Figure size 432x288 with 1 Axes>",
      "image/png": "[encoded data removed]"
     },
     "metadata": {
      "needs_background": "light"
     }
    },
    {
     "output_type": "display_data",
     "data": {
      "text/plain": "<Figure size 432x288 with 1 Axes>",
      "image/png": "[encoded data removed]"
     },
     "metadata": {
      "needs_background": "light"
     }
    },
    {
     "output_type": "display_data",
     "data": {
      "text/plain": "<Figure size 432x288 with 1 Axes>",
      "image/png": "[encoded data removed]"
     },
     "metadata": {
      "needs_background": "light"
     }
    },
    {
     "output_type": "display_data",
     "data": {
      "text/plain": "<Figure size 432x288 with 1 Axes>",
      "image/png": "[encoded data removed]"
     },
     "metadata": {
      "needs_background": "light"
     }
    }
   ],
   "source": [
    "import matplotlib.pyplot as plt\n",
    "import numpy as np\n",
    "classes = model.predict(x_test, batch_size=128)\n",
    "preds = np.argmax(classes, axis=1)\n",
    "\n",
    "for i in range(10):\n",
    "    plt.imshow(x_test[i], cmap='gray')\n",
    "    predict = \"Kết quả dự đoán: \" + str(preds[i])\n",
    "    plt.text(0, -2, predict)\n",
    "    plt.show()"
   ]
  }
 ],
 "metadata": {
  "kernelspec": {
   "name": "python371jvsc74a57bd0ebff501d40bceb1f7e45f1f4145983efe3a87ed3cbc82898c604f12074a058f2",
   "display_name": "Python 3.7.1 64-bit ('base': conda)"
  },
  "language_info": {
   "codemirror_mode": {
    "name": "ipython",
    "version": 3
   },
   "file_extension": ".py",
   "mimetype": "text/x-python",
   "name": "python",
   "nbconvert_exporter": "python",
   "pygments_lexer": "ipython3",
   "version": "3.7.1"
  }
 },
 "nbformat": 4,
 "nbformat_minor": 2
}